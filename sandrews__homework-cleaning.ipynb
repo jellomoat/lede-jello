{
 "cells": [
  {
   "cell_type": "markdown",
   "id": "0150b6c1",
   "metadata": {
    "slideshow": {
     "slide_type": "slide"
    }
   },
   "source": [
    "# Cleaning Data: Homework\n",
    "### Completed by Stephanie Andrews\n",
    "July 13, 2023\n",
    "\n",
    "In class, we discussed a few different ways to clean data — simple Python methods, Pandas versions of those methods, and regular expressions (both in plain Python and in Pandas). You are welcome to use whatever combination of those approaches you'd like. If you really want to stretch your skills, try solving the questions a few different ways."
   ]
  },
  {
   "cell_type": "markdown",
   "id": "dc1373bf",
   "metadata": {},
   "source": [
    "## 0) Load `pets.csv` (provided in CourseWorks)\n",
    "\n",
    "... and assign the data to a variable named `pets`."
   ]
  },
  {
   "cell_type": "code",
   "execution_count": 1,
   "id": "014b93f6",
   "metadata": {
    "slideshow": {
     "slide_type": "-"
    }
   },
   "outputs": [],
   "source": [
    "import pandas as pd"
   ]
  },
  {
   "cell_type": "code",
   "execution_count": 2,
   "id": "5a51368d",
   "metadata": {},
   "outputs": [
    {
     "name": "stdout",
     "output_type": "stream",
     "text": [
      "<class 'pandas.core.frame.DataFrame'>\n",
      "RangeIndex: 10 entries, 0 to 9\n",
      "Data columns (total 4 columns):\n",
      " #   Column     Non-Null Count  Dtype \n",
      "---  ------     --------------  ----- \n",
      " 0   name       10 non-null     object\n",
      " 1   species    10 non-null     object\n",
      " 2   weight     10 non-null     object\n",
      " 3   years_old  10 non-null     object\n",
      "dtypes: object(4)\n",
      "memory usage: 448.0+ bytes\n"
     ]
    }
   ],
   "source": [
    "pets = pd.read_csv(\"./pets.csv\")\n",
    "pets.info()"
   ]
  },
  {
   "cell_type": "code",
   "execution_count": 3,
   "id": "9573429c",
   "metadata": {},
   "outputs": [
    {
     "data": {
      "text/html": [
       "<div>\n",
       "<style scoped>\n",
       "    .dataframe tbody tr th:only-of-type {\n",
       "        vertical-align: middle;\n",
       "    }\n",
       "\n",
       "    .dataframe tbody tr th {\n",
       "        vertical-align: top;\n",
       "    }\n",
       "\n",
       "    .dataframe thead th {\n",
       "        text-align: right;\n",
       "    }\n",
       "</style>\n",
       "<table border=\"1\" class=\"dataframe\">\n",
       "  <thead>\n",
       "    <tr style=\"text-align: right;\">\n",
       "      <th></th>\n",
       "      <th>name</th>\n",
       "      <th>species</th>\n",
       "      <th>weight</th>\n",
       "      <th>years_old</th>\n",
       "    </tr>\n",
       "  </thead>\n",
       "  <tbody>\n",
       "    <tr>\n",
       "      <th>0</th>\n",
       "      <td>smith, fido</td>\n",
       "      <td>dog</td>\n",
       "      <td>5 lbs</td>\n",
       "      <td>1</td>\n",
       "    </tr>\n",
       "    <tr>\n",
       "      <th>1</th>\n",
       "      <td>SMITH,, Bella</td>\n",
       "      <td>CAT</td>\n",
       "      <td>7 lbs</td>\n",
       "      <td>10</td>\n",
       "    </tr>\n",
       "    <tr>\n",
       "      <th>2</th>\n",
       "      <td>Ortiz, Milo</td>\n",
       "      <td>dog</td>\n",
       "      <td>15 lbs</td>\n",
       "      <td>5</td>\n",
       "    </tr>\n",
       "    <tr>\n",
       "      <th>3</th>\n",
       "      <td>Smith, Goldie</td>\n",
       "      <td>goldfish</td>\n",
       "      <td>7 oz</td>\n",
       "      <td>???</td>\n",
       "    </tr>\n",
       "    <tr>\n",
       "      <th>4</th>\n",
       "      <td>Kim, Fuzz</td>\n",
       "      <td>cat</td>\n",
       "      <td>3 lbs</td>\n",
       "      <td>5 (five)</td>\n",
       "    </tr>\n",
       "    <tr>\n",
       "      <th>5</th>\n",
       "      <td>Jones, Las Vegas</td>\n",
       "      <td>DOG</td>\n",
       "      <td>12 lbs</td>\n",
       "      <td>unknown</td>\n",
       "    </tr>\n",
       "    <tr>\n",
       "      <th>6</th>\n",
       "      <td>Jones; fifi</td>\n",
       "      <td>puppy</td>\n",
       "      <td>2 lbs</td>\n",
       "      <td>0.25</td>\n",
       "    </tr>\n",
       "    <tr>\n",
       "      <th>7</th>\n",
       "      <td>Lee, nemo</td>\n",
       "      <td>gold fish</td>\n",
       "      <td>10 oz</td>\n",
       "      <td>2</td>\n",
       "    </tr>\n",
       "    <tr>\n",
       "      <th>8</th>\n",
       "      <td>Chan, ZIGGY</td>\n",
       "      <td>kitten</td>\n",
       "      <td>2 lbs</td>\n",
       "      <td>0.5</td>\n",
       "    </tr>\n",
       "    <tr>\n",
       "      <th>9</th>\n",
       "      <td>Chan, Zog</td>\n",
       "      <td>dog</td>\n",
       "      <td>20 lbs</td>\n",
       "      <td>7</td>\n",
       "    </tr>\n",
       "  </tbody>\n",
       "</table>\n",
       "</div>"
      ],
      "text/plain": [
       "               name    species  weight years_old\n",
       "0       smith, fido        dog   5 lbs        1 \n",
       "1     SMITH,, Bella        CAT   7 lbs        10\n",
       "2       Ortiz, Milo        dog  15 lbs         5\n",
       "3     Smith, Goldie   goldfish    7 oz       ???\n",
       "4         Kim, Fuzz        cat   3 lbs  5 (five)\n",
       "5  Jones, Las Vegas        DOG  12 lbs   unknown\n",
       "6       Jones; fifi      puppy   2 lbs      0.25\n",
       "7         Lee, nemo  gold fish   10 oz         2\n",
       "8       Chan, ZIGGY     kitten   2 lbs       0.5\n",
       "9         Chan, Zog        dog  20 lbs         7"
      ]
     },
     "execution_count": 3,
     "metadata": {},
     "output_type": "execute_result"
    }
   ],
   "source": [
    "pets"
   ]
  },
  {
   "cell_type": "markdown",
   "id": "d9dbb499",
   "metadata": {
    "slideshow": {
     "slide_type": "subslide"
    }
   },
   "source": [
    "We're going to clean the data so that you can __programmatically__ answer the following questions:\n",
    "\n",
    "- Which family owns the most pets? (All pets have been given the surname of the family that owns them. Assume that there's only one family with each surname.)\n",
    "---\n",
    "- How many of each kind of animal are there? (Puppies should count as dogs, and kittens as cats.)\n",
    "---\n",
    "- What is the total weight of the pets? (And which family's pets weigh the most, total?)\n",
    "---\n",
    "- Of the *known* ages, what's the average pet age?"
   ]
  },
  {
   "cell_type": "markdown",
   "id": "8c473987",
   "metadata": {},
   "source": [
    "## 1) Create a new column in the DataFrame called `last_name`, containing *just* the pet's surname\n",
    "\n",
    "... normalized so that `.value_counts()` will count `smith, fido` and `SMITH, Bella` as being from the same family."
   ]
  },
  {
   "cell_type": "code",
   "execution_count": 4,
   "id": "f9e99e74",
   "metadata": {},
   "outputs": [],
   "source": [
    "import re"
   ]
  },
  {
   "cell_type": "code",
   "execution_count": 5,
   "id": "188e5fc1",
   "metadata": {},
   "outputs": [],
   "source": [
    "pets[\"last_name\"] = pets[\"name\"].apply(lambda x: re.split(r\",|;\", x)[0].lower())"
   ]
  },
  {
   "cell_type": "code",
   "execution_count": 6,
   "id": "32e194d9",
   "metadata": {},
   "outputs": [
    {
     "data": {
      "text/plain": [
       "last_name\n",
       "smith    3\n",
       "jones    2\n",
       "chan     2\n",
       "ortiz    1\n",
       "kim      1\n",
       "lee      1\n",
       "Name: count, dtype: int64"
      ]
     },
     "execution_count": 6,
     "metadata": {},
     "output_type": "execute_result"
    }
   ],
   "source": [
    "pets[\"last_name\"].value_counts()"
   ]
  },
  {
   "cell_type": "markdown",
   "id": "8e503f0e",
   "metadata": {},
   "source": [
    "## 2) Check how many distinct last names you see\n",
    "\n",
    "(There should be 6.)"
   ]
  },
  {
   "cell_type": "code",
   "execution_count": 7,
   "id": "d37d9445",
   "metadata": {},
   "outputs": [
    {
     "data": {
      "text/plain": [
       "6"
      ]
     },
     "execution_count": 7,
     "metadata": {},
     "output_type": "execute_result"
    }
   ],
   "source": [
    "len(pets[\"last_name\"].unique())"
   ]
  },
  {
   "cell_type": "markdown",
   "id": "a889425b",
   "metadata": {},
   "source": [
    "## 3) Calculate which family owns the most pets\n",
    "\n",
    "(All pets have been given the surname of the family that owns them. Assume that there's only one family with each surname.)"
   ]
  },
  {
   "cell_type": "code",
   "execution_count": 8,
   "id": "3a0e6204",
   "metadata": {},
   "outputs": [],
   "source": [
    "counts_df = pets[\"last_name\"].value_counts().to_frame(\"count\").reset_index()"
   ]
  },
  {
   "cell_type": "code",
   "execution_count": 9,
   "id": "817e8302",
   "metadata": {},
   "outputs": [
    {
     "name": "stdout",
     "output_type": "stream",
     "text": [
      "The Smith family has 3 pets.\n"
     ]
    }
   ],
   "source": [
    "family_pets = counts_df.sort_values(by=\"count\", ascending=False).iloc[0]\n",
    "print(f\"The {family_pets[0].capitalize()} family has {family_pets[1]} pets.\")"
   ]
  },
  {
   "cell_type": "markdown",
   "id": "3c026b79",
   "metadata": {},
   "source": [
    "## 4) Create a new column called `animal_type`, which standardizes the `species` column\n",
    "\n",
    "(Puppies should count as dogs, and kittens as cats; and there should only be one spelling of `gold fish`/`goldfish`.)"
   ]
  },
  {
   "cell_type": "code",
   "execution_count": 10,
   "id": "c6d6ba43",
   "metadata": {},
   "outputs": [],
   "source": [
    "def standardize_species(x):\n",
    "    match x.lower().replace(\" \", \"\"):\n",
    "        case \"dog\"|\"puppy\":\n",
    "            return \"dog\"\n",
    "        case \"cat\"|\"kitten\":\n",
    "            return \"cat\"\n",
    "        case _:\n",
    "            return x.lower().replace(\" \", \"\")\n",
    "    \n",
    "pets[\"animal_type\"] = pets[\"species\"].apply(lambda x: standardize_species(x))"
   ]
  },
  {
   "cell_type": "markdown",
   "id": "de33cfa2",
   "metadata": {},
   "source": [
    "## 5) How many of each kind of animal are there?"
   ]
  },
  {
   "cell_type": "code",
   "execution_count": 11,
   "id": "a118f6cf",
   "metadata": {},
   "outputs": [
    {
     "data": {
      "text/plain": [
       "animal_type\n",
       "dog         5\n",
       "cat         3\n",
       "goldfish    2\n",
       "Name: count, dtype: int64"
      ]
     },
     "execution_count": 11,
     "metadata": {},
     "output_type": "execute_result"
    }
   ],
   "source": [
    "pets[\"animal_type\"].value_counts()"
   ]
  },
  {
   "cell_type": "markdown",
   "id": "f51fba93",
   "metadata": {},
   "source": [
    "## 6) Create a new column called `weight_quantity`, which represents the numeric component of the `weight` column, as an integer\n",
    "\n",
    "(i.e., `\"10 oz\"` -> `10`)"
   ]
  },
  {
   "cell_type": "code",
   "execution_count": 12,
   "id": "48c958ff",
   "metadata": {},
   "outputs": [],
   "source": [
    "pets[\"weight_quantity\"] = pets[\"weight\"].apply(lambda x: re.search(r\"(\\d+\\.*\\d*)\", x).group()).astype(int)"
   ]
  },
  {
   "cell_type": "code",
   "execution_count": 13,
   "id": "3fe3bcd7",
   "metadata": {},
   "outputs": [
    {
     "data": {
      "text/html": [
       "<div>\n",
       "<style scoped>\n",
       "    .dataframe tbody tr th:only-of-type {\n",
       "        vertical-align: middle;\n",
       "    }\n",
       "\n",
       "    .dataframe tbody tr th {\n",
       "        vertical-align: top;\n",
       "    }\n",
       "\n",
       "    .dataframe thead th {\n",
       "        text-align: right;\n",
       "    }\n",
       "</style>\n",
       "<table border=\"1\" class=\"dataframe\">\n",
       "  <thead>\n",
       "    <tr style=\"text-align: right;\">\n",
       "      <th></th>\n",
       "      <th>name</th>\n",
       "      <th>species</th>\n",
       "      <th>weight</th>\n",
       "      <th>years_old</th>\n",
       "      <th>last_name</th>\n",
       "      <th>animal_type</th>\n",
       "      <th>weight_quantity</th>\n",
       "    </tr>\n",
       "  </thead>\n",
       "  <tbody>\n",
       "    <tr>\n",
       "      <th>0</th>\n",
       "      <td>smith, fido</td>\n",
       "      <td>dog</td>\n",
       "      <td>5 lbs</td>\n",
       "      <td>1</td>\n",
       "      <td>smith</td>\n",
       "      <td>dog</td>\n",
       "      <td>5</td>\n",
       "    </tr>\n",
       "    <tr>\n",
       "      <th>1</th>\n",
       "      <td>SMITH,, Bella</td>\n",
       "      <td>CAT</td>\n",
       "      <td>7 lbs</td>\n",
       "      <td>10</td>\n",
       "      <td>smith</td>\n",
       "      <td>cat</td>\n",
       "      <td>7</td>\n",
       "    </tr>\n",
       "    <tr>\n",
       "      <th>2</th>\n",
       "      <td>Ortiz, Milo</td>\n",
       "      <td>dog</td>\n",
       "      <td>15 lbs</td>\n",
       "      <td>5</td>\n",
       "      <td>ortiz</td>\n",
       "      <td>dog</td>\n",
       "      <td>15</td>\n",
       "    </tr>\n",
       "    <tr>\n",
       "      <th>3</th>\n",
       "      <td>Smith, Goldie</td>\n",
       "      <td>goldfish</td>\n",
       "      <td>7 oz</td>\n",
       "      <td>???</td>\n",
       "      <td>smith</td>\n",
       "      <td>goldfish</td>\n",
       "      <td>7</td>\n",
       "    </tr>\n",
       "    <tr>\n",
       "      <th>4</th>\n",
       "      <td>Kim, Fuzz</td>\n",
       "      <td>cat</td>\n",
       "      <td>3 lbs</td>\n",
       "      <td>5 (five)</td>\n",
       "      <td>kim</td>\n",
       "      <td>cat</td>\n",
       "      <td>3</td>\n",
       "    </tr>\n",
       "    <tr>\n",
       "      <th>5</th>\n",
       "      <td>Jones, Las Vegas</td>\n",
       "      <td>DOG</td>\n",
       "      <td>12 lbs</td>\n",
       "      <td>unknown</td>\n",
       "      <td>jones</td>\n",
       "      <td>dog</td>\n",
       "      <td>12</td>\n",
       "    </tr>\n",
       "    <tr>\n",
       "      <th>6</th>\n",
       "      <td>Jones; fifi</td>\n",
       "      <td>puppy</td>\n",
       "      <td>2 lbs</td>\n",
       "      <td>0.25</td>\n",
       "      <td>jones</td>\n",
       "      <td>dog</td>\n",
       "      <td>2</td>\n",
       "    </tr>\n",
       "    <tr>\n",
       "      <th>7</th>\n",
       "      <td>Lee, nemo</td>\n",
       "      <td>gold fish</td>\n",
       "      <td>10 oz</td>\n",
       "      <td>2</td>\n",
       "      <td>lee</td>\n",
       "      <td>goldfish</td>\n",
       "      <td>10</td>\n",
       "    </tr>\n",
       "    <tr>\n",
       "      <th>8</th>\n",
       "      <td>Chan, ZIGGY</td>\n",
       "      <td>kitten</td>\n",
       "      <td>2 lbs</td>\n",
       "      <td>0.5</td>\n",
       "      <td>chan</td>\n",
       "      <td>cat</td>\n",
       "      <td>2</td>\n",
       "    </tr>\n",
       "    <tr>\n",
       "      <th>9</th>\n",
       "      <td>Chan, Zog</td>\n",
       "      <td>dog</td>\n",
       "      <td>20 lbs</td>\n",
       "      <td>7</td>\n",
       "      <td>chan</td>\n",
       "      <td>dog</td>\n",
       "      <td>20</td>\n",
       "    </tr>\n",
       "  </tbody>\n",
       "</table>\n",
       "</div>"
      ],
      "text/plain": [
       "               name    species  weight years_old last_name animal_type  \\\n",
       "0       smith, fido        dog   5 lbs        1      smith         dog   \n",
       "1     SMITH,, Bella        CAT   7 lbs        10     smith         cat   \n",
       "2       Ortiz, Milo        dog  15 lbs         5     ortiz         dog   \n",
       "3     Smith, Goldie   goldfish    7 oz       ???     smith    goldfish   \n",
       "4         Kim, Fuzz        cat   3 lbs  5 (five)       kim         cat   \n",
       "5  Jones, Las Vegas        DOG  12 lbs   unknown     jones         dog   \n",
       "6       Jones; fifi      puppy   2 lbs      0.25     jones         dog   \n",
       "7         Lee, nemo  gold fish   10 oz         2       lee    goldfish   \n",
       "8       Chan, ZIGGY     kitten   2 lbs       0.5      chan         cat   \n",
       "9         Chan, Zog        dog  20 lbs         7      chan         dog   \n",
       "\n",
       "   weight_quantity  \n",
       "0                5  \n",
       "1                7  \n",
       "2               15  \n",
       "3                7  \n",
       "4                3  \n",
       "5               12  \n",
       "6                2  \n",
       "7               10  \n",
       "8                2  \n",
       "9               20  "
      ]
     },
     "execution_count": 13,
     "metadata": {},
     "output_type": "execute_result"
    }
   ],
   "source": [
    "pets"
   ]
  },
  {
   "cell_type": "markdown",
   "id": "763402d5",
   "metadata": {},
   "source": [
    "## 7) Create a new column called `weight_unit`, which represents the units component of the `weight` column\n",
    "\n",
    "(i.e., `\"10 oz\"` -> `\"oz\"`)"
   ]
  },
  {
   "cell_type": "code",
   "execution_count": 14,
   "id": "be4883d9",
   "metadata": {},
   "outputs": [
    {
     "data": {
      "text/html": [
       "<div>\n",
       "<style scoped>\n",
       "    .dataframe tbody tr th:only-of-type {\n",
       "        vertical-align: middle;\n",
       "    }\n",
       "\n",
       "    .dataframe tbody tr th {\n",
       "        vertical-align: top;\n",
       "    }\n",
       "\n",
       "    .dataframe thead th {\n",
       "        text-align: right;\n",
       "    }\n",
       "</style>\n",
       "<table border=\"1\" class=\"dataframe\">\n",
       "  <thead>\n",
       "    <tr style=\"text-align: right;\">\n",
       "      <th></th>\n",
       "      <th>name</th>\n",
       "      <th>species</th>\n",
       "      <th>weight</th>\n",
       "      <th>years_old</th>\n",
       "      <th>last_name</th>\n",
       "      <th>animal_type</th>\n",
       "      <th>weight_quantity</th>\n",
       "      <th>weight_unit</th>\n",
       "    </tr>\n",
       "  </thead>\n",
       "  <tbody>\n",
       "    <tr>\n",
       "      <th>0</th>\n",
       "      <td>smith, fido</td>\n",
       "      <td>dog</td>\n",
       "      <td>5 lbs</td>\n",
       "      <td>1</td>\n",
       "      <td>smith</td>\n",
       "      <td>dog</td>\n",
       "      <td>5</td>\n",
       "      <td>lbs</td>\n",
       "    </tr>\n",
       "    <tr>\n",
       "      <th>1</th>\n",
       "      <td>SMITH,, Bella</td>\n",
       "      <td>CAT</td>\n",
       "      <td>7 lbs</td>\n",
       "      <td>10</td>\n",
       "      <td>smith</td>\n",
       "      <td>cat</td>\n",
       "      <td>7</td>\n",
       "      <td>lbs</td>\n",
       "    </tr>\n",
       "    <tr>\n",
       "      <th>2</th>\n",
       "      <td>Ortiz, Milo</td>\n",
       "      <td>dog</td>\n",
       "      <td>15 lbs</td>\n",
       "      <td>5</td>\n",
       "      <td>ortiz</td>\n",
       "      <td>dog</td>\n",
       "      <td>15</td>\n",
       "      <td>lbs</td>\n",
       "    </tr>\n",
       "    <tr>\n",
       "      <th>3</th>\n",
       "      <td>Smith, Goldie</td>\n",
       "      <td>goldfish</td>\n",
       "      <td>7 oz</td>\n",
       "      <td>???</td>\n",
       "      <td>smith</td>\n",
       "      <td>goldfish</td>\n",
       "      <td>7</td>\n",
       "      <td>oz</td>\n",
       "    </tr>\n",
       "    <tr>\n",
       "      <th>4</th>\n",
       "      <td>Kim, Fuzz</td>\n",
       "      <td>cat</td>\n",
       "      <td>3 lbs</td>\n",
       "      <td>5 (five)</td>\n",
       "      <td>kim</td>\n",
       "      <td>cat</td>\n",
       "      <td>3</td>\n",
       "      <td>lbs</td>\n",
       "    </tr>\n",
       "    <tr>\n",
       "      <th>5</th>\n",
       "      <td>Jones, Las Vegas</td>\n",
       "      <td>DOG</td>\n",
       "      <td>12 lbs</td>\n",
       "      <td>unknown</td>\n",
       "      <td>jones</td>\n",
       "      <td>dog</td>\n",
       "      <td>12</td>\n",
       "      <td>lbs</td>\n",
       "    </tr>\n",
       "    <tr>\n",
       "      <th>6</th>\n",
       "      <td>Jones; fifi</td>\n",
       "      <td>puppy</td>\n",
       "      <td>2 lbs</td>\n",
       "      <td>0.25</td>\n",
       "      <td>jones</td>\n",
       "      <td>dog</td>\n",
       "      <td>2</td>\n",
       "      <td>lbs</td>\n",
       "    </tr>\n",
       "    <tr>\n",
       "      <th>7</th>\n",
       "      <td>Lee, nemo</td>\n",
       "      <td>gold fish</td>\n",
       "      <td>10 oz</td>\n",
       "      <td>2</td>\n",
       "      <td>lee</td>\n",
       "      <td>goldfish</td>\n",
       "      <td>10</td>\n",
       "      <td>oz</td>\n",
       "    </tr>\n",
       "    <tr>\n",
       "      <th>8</th>\n",
       "      <td>Chan, ZIGGY</td>\n",
       "      <td>kitten</td>\n",
       "      <td>2 lbs</td>\n",
       "      <td>0.5</td>\n",
       "      <td>chan</td>\n",
       "      <td>cat</td>\n",
       "      <td>2</td>\n",
       "      <td>lbs</td>\n",
       "    </tr>\n",
       "    <tr>\n",
       "      <th>9</th>\n",
       "      <td>Chan, Zog</td>\n",
       "      <td>dog</td>\n",
       "      <td>20 lbs</td>\n",
       "      <td>7</td>\n",
       "      <td>chan</td>\n",
       "      <td>dog</td>\n",
       "      <td>20</td>\n",
       "      <td>lbs</td>\n",
       "    </tr>\n",
       "  </tbody>\n",
       "</table>\n",
       "</div>"
      ],
      "text/plain": [
       "               name    species  weight years_old last_name animal_type  \\\n",
       "0       smith, fido        dog   5 lbs        1      smith         dog   \n",
       "1     SMITH,, Bella        CAT   7 lbs        10     smith         cat   \n",
       "2       Ortiz, Milo        dog  15 lbs         5     ortiz         dog   \n",
       "3     Smith, Goldie   goldfish    7 oz       ???     smith    goldfish   \n",
       "4         Kim, Fuzz        cat   3 lbs  5 (five)       kim         cat   \n",
       "5  Jones, Las Vegas        DOG  12 lbs   unknown     jones         dog   \n",
       "6       Jones; fifi      puppy   2 lbs      0.25     jones         dog   \n",
       "7         Lee, nemo  gold fish   10 oz         2       lee    goldfish   \n",
       "8       Chan, ZIGGY     kitten   2 lbs       0.5      chan         cat   \n",
       "9         Chan, Zog        dog  20 lbs         7      chan         dog   \n",
       "\n",
       "   weight_quantity weight_unit  \n",
       "0                5         lbs  \n",
       "1                7         lbs  \n",
       "2               15         lbs  \n",
       "3                7          oz  \n",
       "4                3         lbs  \n",
       "5               12         lbs  \n",
       "6                2         lbs  \n",
       "7               10          oz  \n",
       "8                2         lbs  \n",
       "9               20         lbs  "
      ]
     },
     "execution_count": 14,
     "metadata": {},
     "output_type": "execute_result"
    }
   ],
   "source": [
    "pets[\"weight_unit\"] = pets[\"weight\"].apply(lambda x: re.search(r\"([a-z]+)\", x).group())\n",
    "pets"
   ]
  },
  {
   "cell_type": "markdown",
   "id": "a13599c0",
   "metadata": {},
   "source": [
    "## 8) Create a new column called `unit_factor`, which should equal `1` when `weight_unit` is `\"lbs\"` and `0.0625` when `weight_unit` is `\"oz\"`\n",
    "\n",
    "(i.e., `\"10 oz\"` -> `\"oz\"`)\n",
    "\n",
    "You could do this by defining a function and using `column.apply(my_function)` or through Pandas' `.replace({ ... })` method, which we didn't cover in class but is somewhat easier here. That would look like this (yes, I'm giving you the answer here):\n",
    "\n",
    "```python\n",
    "pets[\"unit_factor\"] = (\n",
    "    pets[\"weight_unit\"]\n",
    "    .replace({\n",
    "        \"lbs\": 1,\n",
    "        \"oz\": 0.0625\n",
    "    })\n",
    ")\n",
    "```"
   ]
  },
  {
   "cell_type": "code",
   "execution_count": 15,
   "id": "ef9ff0ee",
   "metadata": {},
   "outputs": [],
   "source": [
    "pets[\"unit_factor\"] = (\n",
    "    pets[\"weight_unit\"]\n",
    "    .replace({\n",
    "        \"lbs\": 1,\n",
    "        \"oz\": 0.0625\n",
    "    })\n",
    ")"
   ]
  },
  {
   "cell_type": "markdown",
   "id": "1d2bfccb",
   "metadata": {},
   "source": [
    "## 8) Create a new column called `weight_lbs`, which calculates the pet's weight in lbs by multiplying `weight_quantity` by `unit_factor`"
   ]
  },
  {
   "cell_type": "code",
   "execution_count": 16,
   "id": "b2a9f87f",
   "metadata": {},
   "outputs": [],
   "source": [
    "pets[\"weight_lbs\"] = pets[\"weight_quantity\"]*pets[\"unit_factor\"]"
   ]
  },
  {
   "cell_type": "markdown",
   "id": "496296d6",
   "metadata": {},
   "source": [
    "## 9) What is the total weight of the pets?"
   ]
  },
  {
   "cell_type": "code",
   "execution_count": 17,
   "id": "ccfd95c7",
   "metadata": {},
   "outputs": [
    {
     "data": {
      "text/plain": [
       "67.0625"
      ]
     },
     "execution_count": 17,
     "metadata": {},
     "output_type": "execute_result"
    }
   ],
   "source": [
    "pets[\"weight_lbs\"].sum()"
   ]
  },
  {
   "cell_type": "markdown",
   "id": "6560840c",
   "metadata": {},
   "source": [
    "## 10)  And which family's pets weigh the most, total?"
   ]
  },
  {
   "cell_type": "code",
   "execution_count": 18,
   "id": "0786955a",
   "metadata": {},
   "outputs": [
    {
     "data": {
      "text/plain": [
       "last_name\n",
       "chan     22.0000\n",
       "jones    14.0000\n",
       "kim       3.0000\n",
       "lee       0.6250\n",
       "ortiz    15.0000\n",
       "smith    12.4375\n",
       "Name: weight_lbs, dtype: float64"
      ]
     },
     "execution_count": 18,
     "metadata": {},
     "output_type": "execute_result"
    }
   ],
   "source": [
    "pets.groupby(\"last_name\")[\"weight_lbs\"].sum()"
   ]
  },
  {
   "cell_type": "markdown",
   "id": "a263551d",
   "metadata": {},
   "source": [
    "## 11) Of the known ages, what's the average pet age?\n",
    "\n",
    "(You should get `3.84375`; if not, make sure you're accounting for numbers like `0.5` correctly.)"
   ]
  },
  {
   "cell_type": "code",
   "execution_count": 19,
   "id": "b09fc72b",
   "metadata": {},
   "outputs": [],
   "source": [
    "def standardize_age(x):\n",
    "    return float(re.search(r\"(\\d+\\.*\\d*)\", x).group())\n",
    "\n",
    "pets[\"years_num\"] = pets[\"years_old\"].apply(lambda x: standardize_age(x) if re.search(r\"(\\d+\\.*\\d*)\", x) else None)"
   ]
  },
  {
   "cell_type": "code",
   "execution_count": 20,
   "id": "60440b68",
   "metadata": {},
   "outputs": [
    {
     "data": {
      "text/plain": [
       "3.84375"
      ]
     },
     "execution_count": 20,
     "metadata": {},
     "output_type": "execute_result"
    }
   ],
   "source": [
    "pets[\"years_num\"].dropna().mean()"
   ]
  },
  {
   "cell_type": "markdown",
   "id": "2bd4afc7",
   "metadata": {},
   "source": [
    "---\n",
    "\n",
    "---\n",
    "\n",
    "---"
   ]
  }
 ],
 "metadata": {
  "kernelspec": {
   "display_name": "Python 3 (ipykernel)",
   "language": "python",
   "name": "python3"
  },
  "language_info": {
   "codemirror_mode": {
    "name": "ipython",
    "version": 3
   },
   "file_extension": ".py",
   "mimetype": "text/x-python",
   "name": "python",
   "nbconvert_exporter": "python",
   "pygments_lexer": "ipython3",
   "version": "3.10.11"
  }
 },
 "nbformat": 4,
 "nbformat_minor": 5
}
