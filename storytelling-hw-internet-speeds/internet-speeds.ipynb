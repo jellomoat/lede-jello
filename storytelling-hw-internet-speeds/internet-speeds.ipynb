{
 "cells": [
  {
   "cell_type": "code",
   "execution_count": 1,
   "id": "b7dc1e3d",
   "metadata": {},
   "outputs": [],
   "source": [
    "import pandas as pd"
   ]
  },
  {
   "cell_type": "code",
   "execution_count": 2,
   "id": "d9867049",
   "metadata": {},
   "outputs": [
    {
     "name": "stdout",
     "output_type": "stream",
     "text": [
      "<class 'pandas.core.frame.DataFrame'>\n",
      "RangeIndex: 249 entries, 0 to 248\n",
      "Data columns (total 11 columns):\n",
      " #   Column                    Non-Null Count  Dtype  \n",
      "---  ------                    --------------  -----  \n",
      " 0   name                      249 non-null    object \n",
      " 1   alpha-2                   248 non-null    object \n",
      " 2   alpha-3                   249 non-null    object \n",
      " 3   country-code              249 non-null    int64  \n",
      " 4   iso_3166-2                249 non-null    object \n",
      " 5   region                    248 non-null    object \n",
      " 6   sub-region                248 non-null    object \n",
      " 7   intermediate-region       107 non-null    object \n",
      " 8   region-code               248 non-null    float64\n",
      " 9   sub-region-code           248 non-null    float64\n",
      " 10  intermediate-region-code  107 non-null    float64\n",
      "dtypes: float64(3), int64(1), object(7)\n",
      "memory usage: 21.5+ KB\n"
     ]
    }
   ],
   "source": [
    "iso_mapping_df = pd.read_csv(\"./all.csv\")\n",
    "iso_mapping_df.info()"
   ]
  },
  {
   "cell_type": "code",
   "execution_count": 3,
   "id": "7488e5f8",
   "metadata": {},
   "outputs": [
    {
     "name": "stdout",
     "output_type": "stream",
     "text": [
      "<class 'pandas.core.frame.DataFrame'>\n",
      "RangeIndex: 177 entries, 0 to 176\n",
      "Data columns (total 3 columns):\n",
      " #   Column     Non-Null Count  Dtype  \n",
      "---  ------     --------------  -----  \n",
      " 0   country    177 non-null    object \n",
      " 1   broadband  177 non-null    float64\n",
      " 2   mobile     136 non-null    float64\n",
      "dtypes: float64(2), object(1)\n",
      "memory usage: 4.3+ KB\n"
     ]
    }
   ],
   "source": [
    "speeds_df = pd.read_csv(\"./Internet Speed 2022.csv\")\n",
    "speeds_df.info()"
   ]
  },
  {
   "cell_type": "code",
   "execution_count": 4,
   "id": "0a723fac",
   "metadata": {},
   "outputs": [
    {
     "data": {
      "text/html": [
       "<div>\n",
       "<style scoped>\n",
       "    .dataframe tbody tr th:only-of-type {\n",
       "        vertical-align: middle;\n",
       "    }\n",
       "\n",
       "    .dataframe tbody tr th {\n",
       "        vertical-align: top;\n",
       "    }\n",
       "\n",
       "    .dataframe thead th {\n",
       "        text-align: right;\n",
       "    }\n",
       "</style>\n",
       "<table border=\"1\" class=\"dataframe\">\n",
       "  <thead>\n",
       "    <tr style=\"text-align: right;\">\n",
       "      <th></th>\n",
       "      <th>name</th>\n",
       "      <th>alpha-2</th>\n",
       "      <th>alpha-3</th>\n",
       "      <th>country-code</th>\n",
       "      <th>iso_3166-2</th>\n",
       "      <th>region</th>\n",
       "      <th>sub-region</th>\n",
       "      <th>intermediate-region</th>\n",
       "      <th>region-code</th>\n",
       "      <th>sub-region-code</th>\n",
       "      <th>intermediate-region-code</th>\n",
       "    </tr>\n",
       "  </thead>\n",
       "  <tbody>\n",
       "    <tr>\n",
       "      <th>0</th>\n",
       "      <td>Afghanistan</td>\n",
       "      <td>AF</td>\n",
       "      <td>AFG</td>\n",
       "      <td>4</td>\n",
       "      <td>ISO 3166-2:AF</td>\n",
       "      <td>Asia</td>\n",
       "      <td>Southern Asia</td>\n",
       "      <td>NaN</td>\n",
       "      <td>142.0</td>\n",
       "      <td>34.0</td>\n",
       "      <td>NaN</td>\n",
       "    </tr>\n",
       "    <tr>\n",
       "      <th>1</th>\n",
       "      <td>Åland Islands</td>\n",
       "      <td>AX</td>\n",
       "      <td>ALA</td>\n",
       "      <td>248</td>\n",
       "      <td>ISO 3166-2:AX</td>\n",
       "      <td>Europe</td>\n",
       "      <td>Northern Europe</td>\n",
       "      <td>NaN</td>\n",
       "      <td>150.0</td>\n",
       "      <td>154.0</td>\n",
       "      <td>NaN</td>\n",
       "    </tr>\n",
       "  </tbody>\n",
       "</table>\n",
       "</div>"
      ],
      "text/plain": [
       "            name alpha-2 alpha-3  country-code     iso_3166-2  region  \\\n",
       "0    Afghanistan      AF     AFG             4  ISO 3166-2:AF    Asia   \n",
       "1  Åland Islands      AX     ALA           248  ISO 3166-2:AX  Europe   \n",
       "\n",
       "        sub-region intermediate-region  region-code  sub-region-code  \\\n",
       "0    Southern Asia                 NaN        142.0             34.0   \n",
       "1  Northern Europe                 NaN        150.0            154.0   \n",
       "\n",
       "   intermediate-region-code  \n",
       "0                       NaN  \n",
       "1                       NaN  "
      ]
     },
     "execution_count": 4,
     "metadata": {},
     "output_type": "execute_result"
    }
   ],
   "source": [
    "iso_mapping_df.head(2)"
   ]
  },
  {
   "cell_type": "code",
   "execution_count": 5,
   "id": "e5769fb9",
   "metadata": {},
   "outputs": [],
   "source": [
    "# The code below was used to identify countries from speeds_df with a name \n",
    "# that differs from that listed in iso_mapping_df.\n",
    "\n",
    "# merged = speeds_df.merge(iso_mapping_df,\n",
    "#     left_on=\"country\",\n",
    "#     right_on=\"name\",\n",
    "#     how=\"outer\")\n",
    "# merged[merged[\"name\"].isnull()].sort_values(by=\"country\")[\"country\"]\n",
    "# for country in (merged[merged[\"country\"].isnull()].sort_values(by=\"name\")[\"name\"]):\n",
    "#     print(country)"
   ]
  },
  {
   "cell_type": "code",
   "execution_count": 6,
   "id": "7a017fcb",
   "metadata": {},
   "outputs": [],
   "source": [
    "countries_mapping = {\n",
    "    \"Bolivia\": \"Bolivia (Plurinational State of)\",\n",
    "    \"Brunei\": \"Brunei Darussalam\",\n",
    "    \"Cape Verde\": \"Cabo Verde\",\n",
    "    \"Iran\": \"Iran (Islamic Republic of)\",\n",
    "    \"Ivory Coast\": \"Côte d'Ivoire\",\n",
    "    \"Laos\": \"Lao People's Democratic Republic\",\n",
    "    \"Macau\": \"Macao\",\n",
    "    \"Micronesia\": \"Micronesia (Federated States of)\",\n",
    "    \"Moldova\": \"Moldova, Republic of\",\n",
    "    \"Palestine\": \"Palestine, State of\",\n",
    "    \"Russia\": \"Russian Federation\",\n",
    "    \"South Korea\": \"Korea, Republic of\",\n",
    "    \"Syria\": \"Syrian Arab Republic\",\n",
    "    \"Taiwan\": \"Taiwan, Province of China\",\n",
    "    \"Tanzania\": \"Tanzania, United Republic of\",\n",
    "    \"United Kingdom\": \"United Kingdom of Great Britain and Northern Ireland\",\n",
    "    \"United States\": \"United States of America\",\n",
    "    \"Venezuela\": \"Venezuela (Bolivarian Republic of)\",\n",
    "    \"Vietnam\": \"Viet Nam\"\n",
    "}"
   ]
  },
  {
   "cell_type": "code",
   "execution_count": 7,
   "id": "2c083aef",
   "metadata": {},
   "outputs": [],
   "source": [
    "def get_converted_country_name(country_str):\n",
    "    return countries_mapping.get(country_str, country_str)"
   ]
  },
  {
   "cell_type": "code",
   "execution_count": 8,
   "id": "c0827262",
   "metadata": {},
   "outputs": [],
   "source": [
    "speeds_df[\"mapped_country\"] = speeds_df[\"country\"].apply(get_converted_country_name)"
   ]
  },
  {
   "cell_type": "code",
   "execution_count": 9,
   "id": "844c2cfb",
   "metadata": {},
   "outputs": [],
   "source": [
    "speeds_df_with_regions = speeds_df.merge(iso_mapping_df,\n",
    "    left_on=\"mapped_country\",\n",
    "    right_on=\"name\",\n",
    "    how=\"left\")"
   ]
  },
  {
   "cell_type": "code",
   "execution_count": 10,
   "id": "daf43495",
   "metadata": {},
   "outputs": [
    {
     "data": {
      "text/html": [
       "<div>\n",
       "<style scoped>\n",
       "    .dataframe tbody tr th:only-of-type {\n",
       "        vertical-align: middle;\n",
       "    }\n",
       "\n",
       "    .dataframe tbody tr th {\n",
       "        vertical-align: top;\n",
       "    }\n",
       "\n",
       "    .dataframe thead th {\n",
       "        text-align: right;\n",
       "    }\n",
       "</style>\n",
       "<table border=\"1\" class=\"dataframe\">\n",
       "  <thead>\n",
       "    <tr style=\"text-align: right;\">\n",
       "      <th></th>\n",
       "      <th>country</th>\n",
       "      <th>broadband</th>\n",
       "      <th>mobile</th>\n",
       "      <th>region</th>\n",
       "      <th>sub-region</th>\n",
       "    </tr>\n",
       "  </thead>\n",
       "  <tbody>\n",
       "    <tr>\n",
       "      <th>0</th>\n",
       "      <td>Monaco</td>\n",
       "      <td>261.82</td>\n",
       "      <td>NaN</td>\n",
       "      <td>Europe</td>\n",
       "      <td>Western Europe</td>\n",
       "    </tr>\n",
       "    <tr>\n",
       "      <th>1</th>\n",
       "      <td>Singapore</td>\n",
       "      <td>255.83</td>\n",
       "      <td>105.01</td>\n",
       "      <td>Asia</td>\n",
       "      <td>South-eastern Asia</td>\n",
       "    </tr>\n",
       "    <tr>\n",
       "      <th>2</th>\n",
       "      <td>Hong Kong</td>\n",
       "      <td>254.70</td>\n",
       "      <td>83.58</td>\n",
       "      <td>Asia</td>\n",
       "      <td>Eastern Asia</td>\n",
       "    </tr>\n",
       "    <tr>\n",
       "      <th>3</th>\n",
       "      <td>Romania</td>\n",
       "      <td>232.17</td>\n",
       "      <td>59.67</td>\n",
       "      <td>Europe</td>\n",
       "      <td>Eastern Europe</td>\n",
       "    </tr>\n",
       "    <tr>\n",
       "      <th>4</th>\n",
       "      <td>Switzerland</td>\n",
       "      <td>229.96</td>\n",
       "      <td>135.70</td>\n",
       "      <td>Europe</td>\n",
       "      <td>Western Europe</td>\n",
       "    </tr>\n",
       "    <tr>\n",
       "      <th>...</th>\n",
       "      <td>...</td>\n",
       "      <td>...</td>\n",
       "      <td>...</td>\n",
       "      <td>...</td>\n",
       "      <td>...</td>\n",
       "    </tr>\n",
       "    <tr>\n",
       "      <th>172</th>\n",
       "      <td>Equatorial Guinea</td>\n",
       "      <td>7.95</td>\n",
       "      <td>NaN</td>\n",
       "      <td>Africa</td>\n",
       "      <td>Sub-Saharan Africa</td>\n",
       "    </tr>\n",
       "    <tr>\n",
       "      <th>173</th>\n",
       "      <td>Sudan</td>\n",
       "      <td>7.92</td>\n",
       "      <td>14.51</td>\n",
       "      <td>Africa</td>\n",
       "      <td>Northern Africa</td>\n",
       "    </tr>\n",
       "    <tr>\n",
       "      <th>174</th>\n",
       "      <td>Yemen</td>\n",
       "      <td>7.59</td>\n",
       "      <td>NaN</td>\n",
       "      <td>Asia</td>\n",
       "      <td>Western Asia</td>\n",
       "    </tr>\n",
       "    <tr>\n",
       "      <th>175</th>\n",
       "      <td>Turkmenistan</td>\n",
       "      <td>4.11</td>\n",
       "      <td>NaN</td>\n",
       "      <td>Asia</td>\n",
       "      <td>Central Asia</td>\n",
       "    </tr>\n",
       "    <tr>\n",
       "      <th>176</th>\n",
       "      <td>Cuba</td>\n",
       "      <td>4.01</td>\n",
       "      <td>25.02</td>\n",
       "      <td>Americas</td>\n",
       "      <td>Latin America and the Caribbean</td>\n",
       "    </tr>\n",
       "  </tbody>\n",
       "</table>\n",
       "<p>177 rows × 5 columns</p>\n",
       "</div>"
      ],
      "text/plain": [
       "               country  broadband  mobile    region  \\\n",
       "0               Monaco     261.82     NaN    Europe   \n",
       "1            Singapore     255.83  105.01      Asia   \n",
       "2            Hong Kong     254.70   83.58      Asia   \n",
       "3              Romania     232.17   59.67    Europe   \n",
       "4          Switzerland     229.96  135.70    Europe   \n",
       "..                 ...        ...     ...       ...   \n",
       "172  Equatorial Guinea       7.95     NaN    Africa   \n",
       "173              Sudan       7.92   14.51    Africa   \n",
       "174              Yemen       7.59     NaN      Asia   \n",
       "175       Turkmenistan       4.11     NaN      Asia   \n",
       "176               Cuba       4.01   25.02  Americas   \n",
       "\n",
       "                          sub-region  \n",
       "0                     Western Europe  \n",
       "1                 South-eastern Asia  \n",
       "2                       Eastern Asia  \n",
       "3                     Eastern Europe  \n",
       "4                     Western Europe  \n",
       "..                               ...  \n",
       "172               Sub-Saharan Africa  \n",
       "173                  Northern Africa  \n",
       "174                     Western Asia  \n",
       "175                     Central Asia  \n",
       "176  Latin America and the Caribbean  \n",
       "\n",
       "[177 rows x 5 columns]"
      ]
     },
     "execution_count": 10,
     "metadata": {},
     "output_type": "execute_result"
    }
   ],
   "source": [
    "speeds_df_with_regions[[\"country\", \"broadband\", \"mobile\", \"region\", \"sub-region\"]]"
   ]
  },
  {
   "cell_type": "code",
   "execution_count": 11,
   "id": "5de5b013",
   "metadata": {},
   "outputs": [],
   "source": [
    "speeds_df_with_regions.to_csv(\"./internet-speeds-with-regions.csv\")"
   ]
  },
  {
   "cell_type": "code",
   "execution_count": 12,
   "id": "9d694f95",
   "metadata": {},
   "outputs": [],
   "source": [
    "# https://github.com/lukes/ISO-3166-Countries-with-Regional-Codes"
   ]
  },
  {
   "cell_type": "code",
   "execution_count": null,
   "id": "255518d1",
   "metadata": {},
   "outputs": [],
   "source": []
  }
 ],
 "metadata": {
  "kernelspec": {
   "display_name": "Python 3 (ipykernel)",
   "language": "python",
   "name": "python3"
  },
  "language_info": {
   "codemirror_mode": {
    "name": "ipython",
    "version": 3
   },
   "file_extension": ".py",
   "mimetype": "text/x-python",
   "name": "python",
   "nbconvert_exporter": "python",
   "pygments_lexer": "ipython3",
   "version": "3.10.11"
  }
 },
 "nbformat": 4,
 "nbformat_minor": 5
}
